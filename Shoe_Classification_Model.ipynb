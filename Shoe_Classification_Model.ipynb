{
  "cells": [
    {
      "cell_type": "markdown",
      "metadata": {
        "id": "view-in-github",
        "colab_type": "text"
      },
      "source": [
        "<a href=\"https://colab.research.google.com/github/christopherevan/CV_Shoe_Dataset/blob/main/Shoe_Classification_Model.ipynb\" target=\"_parent\"><img src=\"https://colab.research.google.com/assets/colab-badge.svg\" alt=\"Open In Colab\"/></a>"
      ]
    },
    {
      "cell_type": "code",
      "source": [
        "import numpy as np\n",
        "import matplotlib.pyplot as plt\n",
        "import cv2\n",
        "from pathlib import Path\n",
        "import os\n",
        "import re\n",
        "from sklearn.model_selection import train_test_split\n",
        "import pandas as pd"
      ],
      "metadata": {
        "id": "CvjfkyWFqVqZ"
      },
      "execution_count": null,
      "outputs": []
    },
    {
      "cell_type": "code",
      "source": [
        "!git clone https://github.com/christopherevan/CV_Shoe_Dataset.git"
      ],
      "metadata": {
        "id": "Eqj1OYRmqZvv"
      },
      "execution_count": null,
      "outputs": []
    },
    {
      "cell_type": "code",
      "source": [
        "%cd CV_Shoe_Dataset\n",
        "!unzip test.zip\n",
        "!unzip train.zip\n",
        "!unzip valid.zip"
      ],
      "metadata": {
        "id": "7FPUzkBzqa_w"
      },
      "execution_count": null,
      "outputs": []
    },
    {
      "cell_type": "code",
      "source": [
        "from tensorflow.keras.preprocessing.image import ImageDataGenerator\n",
        "\n",
        "train_datagen = ImageDataGenerator()\n",
        "test_datagen = ImageDataGenerator()\n",
        "\n",
        "train_data_generator = train_datagen.flow_from_directory(\"Train\", \n",
        "                                                      target_size=(224, 224), batch_size=8, \n",
        "                                                      class_mode = \"categorical\", shuffle = True)\n",
        "test_data_generator = test_datagen.flow_from_directory(\"Test\", \n",
        "                                                      target_size=(224, 224), batch_size=8, \n",
        "                                                      class_mode = \"categorical\", shuffle = True)"
      ],
      "metadata": {
        "id": "MmQlQMrQqdPA"
      },
      "execution_count": null,
      "outputs": []
    },
    {
      "cell_type": "code",
      "source": [
        "import tensorflow as tf\n",
        "from tensorflow import keras\n",
        "from tensorflow.keras import layers\n",
        "\n",
        "data_augmentation = keras.Sequential(\n",
        "    [layers.RandomFlip(\"horizontal\"), layers.RandomRotation(0.1), layers.RandomTranslation(height_factor=0.1, width_factor=0.1), layers.RandomContrast(factor=0.1)]\n",
        ")"
      ],
      "metadata": {
        "id": "AEgFzQfvqf1S"
      },
      "execution_count": null,
      "outputs": []
    },
    {
      "cell_type": "code",
      "source": [
        "batch = next(train_data_generator)\n",
        "plt.figure(figsize=(10, 10))\n",
        "first_image = batch[0][0]\n",
        "for i in range(9):\n",
        "    ax = plt.subplot(3, 3, i + 1)\n",
        "    augmented_image = data_augmentation(\n",
        "        tf.expand_dims(first_image, 0), training=True\n",
        "    )\n",
        "    plt.imshow(augmented_image[0].numpy().astype(\"int32\"))\n",
        "    plt.axis(\"off\")"
      ],
      "metadata": {
        "id": "4gBRFRbAqh6P"
      },
      "execution_count": null,
      "outputs": []
    },
    {
      "cell_type": "code",
      "source": [
        "from tensorflow.keras.models import Sequential\n",
        "from tensorflow.keras.layers import Conv2D, Dense, MaxPooling2D, Flatten, Dropout\n",
        "from tensorflow.keras import regularizers\n",
        "from tensorflow.keras import models, layers, optimizers"
      ],
      "metadata": {
        "id": "CbhXZyHEqkLt"
      },
      "execution_count": null,
      "outputs": []
    },
    {
      "cell_type": "code",
      "source": [
        "from tensorflow.keras.applications import EfficientNetB0\n",
        "\n",
        "model_base = EfficientNetB0(\n",
        "            include_top=False,\n",
        "            weights=\"imagenet\")    \n",
        "\n",
        "model_base.trainable = False\n",
        "\n",
        "inputs = keras.Input(shape=(224, 224, 3))\n",
        "x = data_augmentation(inputs)\n",
        "\n",
        "x = model_base(x, training=False)\n",
        "x = keras.layers.GlobalAveragePooling2D()(x)\n",
        "x = keras.layers.Dropout(0.2)(x)\n",
        "predictions = layers.Dense(int(len(train_data_generator.class_indices.keys())), activation='softmax')(x)\n",
        "model = models.Model(inputs=inputs, outputs=predictions)\n",
        "model.summary()\n"
      ],
      "metadata": {
        "id": "MelxtQXRqmBo"
      },
      "execution_count": null,
      "outputs": []
    },
    {
      "cell_type": "code",
      "source": [
        "model.compile(optimizer = 'adam', loss = 'categorical_crossentropy', metrics = ['accuracy', tf.keras.metrics.TruePositives(), tf.keras.metrics.TrueNegatives(), tf.keras.metrics.FalsePositives(), tf.keras.metrics.FalseNegatives()])\n",
        "hist = model.fit(train_data_generator,\n",
        "                      epochs = 25,\n",
        "                      validation_data = test_data_generator)"
      ],
      "metadata": {
        "id": "hq7ifFNGqn6p"
      },
      "execution_count": null,
      "outputs": []
    },
    {
      "cell_type": "code",
      "source": [
        "acc = hist.history['val_accuracy']\n",
        "loss = hist.history['val_loss']\n",
        "\n",
        "epochs = range(len(acc))\n",
        "\n",
        "plt.subplots(figsize=(15,5))\n",
        "\n",
        "plt.subplot(1,2,1)\n",
        "plt.plot(epochs, acc, 'g', label = 'Validation Accuracy')\n",
        "plt.title('EfficientNetB0 Validation Accuracy')\n",
        "plt.xlabel('Epochs')\n",
        "plt.ylabel('Accuracy')\n",
        "plt.legend(loc = 'best')\n",
        "\n",
        "plt.subplot(1,2,2)\n",
        "plt.plot(epochs, loss, 'r', label = 'Validation Loss')\n",
        "plt.title('EfficientNetB0 Validation Loss')\n",
        "plt.xlabel('Epochs')\n",
        "plt.ylabel('Loss')\n",
        "plt.legend(loc = 'best')"
      ],
      "metadata": {
        "id": "QkHbwtjdqq3p"
      },
      "execution_count": null,
      "outputs": []
    },
    {
      "cell_type": "code",
      "source": [
        "model_base.trainable = True\n",
        "model.summary()\n",
        "\n",
        "model.compile(\n",
        "    optimizer=keras.optimizers.Adam(1e-5),\n",
        "    loss = 'categorical_crossentropy', metrics = ['accuracy', tf.keras.metrics.TruePositives(), tf.keras.metrics.TrueNegatives(), tf.keras.metrics.FalsePositives(), tf.keras.metrics.FalseNegatives()]\n",
        ")\n",
        "\n",
        "epochs = 15\n",
        "hist = model.fit(train_data_generator, epochs=epochs, validation_data=test_data_generator)"
      ],
      "metadata": {
        "id": "T2wM4FEhqsQk"
      },
      "execution_count": null,
      "outputs": []
    },
    {
      "cell_type": "code",
      "source": [
        "from tensorflow.keras.models import save_model\n",
        "save_model(model, \"eff_b0_shoe.h5\")"
      ],
      "metadata": {
        "id": "mWQDPVw4qu5v"
      },
      "execution_count": null,
      "outputs": []
    },
    {
      "cell_type": "code",
      "source": [
        "tp_val = hist.history['val_true_positives_1'][-1]\n",
        "fp_val = hist.history['val_false_positives_1'][-1]\n",
        "tn_val = hist.history['val_true_negatives_1'][-1]\n",
        "fn_val = hist.history['val_false_negatives_1'][-1]\n",
        "\n",
        "accuracy_val = hist.history['val_accuracy'][-1]\n",
        "precision_val = tp_val/(tp_val+fp_val)\n",
        "recall_val = tp_val/(tp_val+fn_val)\n",
        "f1_val = 2*((precision_val*recall_val)/(precision_val+recall_val))\n",
        "\n",
        "tp_model = hist.history['true_positives_1'][-1]\n",
        "fp_model = hist.history['false_positives_1'][-1]\n",
        "tn_model = hist.history['true_negatives_1'][-1]\n",
        "fn_model = hist.history['false_negatives_1'][-1]\n",
        "\n",
        "accuracy_model = hist.history['accuracy'][-1]\n",
        "precision_model = tp_model/(tp_model+fp_model)\n",
        "recall_model = tp_model/(tp_model+fn_model)\n",
        "f1_model = 2*((precision_model*recall_model)/(precision_model+recall_model))\n",
        "\n",
        "print(\"-- EfficientNetB0 after fine tuning --\")\n",
        "print(\"\")\n",
        "print(\"-- Model Scores\")\n",
        "print(\"Accuracy =\", accuracy_model)\n",
        "print(\"Precision =\", precision_model)\n",
        "print(\"Recall =\", recall_model)\n",
        "print(\"F1 =\", f1_model)\n",
        "print(\"\")\n",
        "print(\"-- Validation Scores\")\n",
        "print(\"Accuracy =\", accuracy_val)\n",
        "print(\"Precision =\", precision_val)\n",
        "print(\"Recall =\", recall_val)\n",
        "print(\"F1 =\", f1_val)"
      ],
      "metadata": {
        "id": "2WjiRdeoqyTz"
      },
      "execution_count": null,
      "outputs": []
    },
    {
      "cell_type": "code",
      "source": [
        "acc = hist.history['val_accuracy']\n",
        "loss = hist.history['val_loss']\n",
        "\n",
        "epochs = range(len(acc))\n",
        "\n",
        "plt.subplots(figsize=(15,5))\n",
        "\n",
        "plt.subplot(1,2,1)\n",
        "plt.plot(epochs, acc, 'g', label = 'Validation Accuracy')\n",
        "plt.title('EfficientNetB0 Validation Accuracy (fine tuning)')\n",
        "plt.xlabel('Epochs')\n",
        "plt.ylabel('Accuracy')\n",
        "plt.legend(loc = 'best')\n",
        "\n",
        "plt.subplot(1,2,2)\n",
        "plt.plot(epochs, loss, 'r', label = 'Validation Loss')\n",
        "plt.title('EfficientNetB0 Validation Loss (fine tuning)')\n",
        "plt.xlabel('Epochs')\n",
        "plt.ylabel('Loss')\n",
        "plt.legend(loc = 'best')"
      ],
      "metadata": {
        "id": "0fr8BFGLq0Yd"
      },
      "execution_count": null,
      "outputs": []
    }
  ],
  "metadata": {
    "colab": {
      "provenance": [],
      "authorship_tag": "ABX9TyO1EecRY6ByiDoK6W5r9NSj",
      "include_colab_link": true
    },
    "kernelspec": {
      "display_name": "Python 3",
      "name": "python3"
    },
    "language_info": {
      "name": "python"
    }
  },
  "nbformat": 4,
  "nbformat_minor": 0
}